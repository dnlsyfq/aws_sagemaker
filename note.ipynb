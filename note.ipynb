{
 "metadata": {
  "language_info": {
   "codemirror_mode": {
    "name": "ipython",
    "version": 3
   },
   "file_extension": ".py",
   "mimetype": "text/x-python",
   "name": "python",
   "nbconvert_exporter": "python",
   "pygments_lexer": "ipython3",
   "version": "3.6.4-final"
  },
  "orig_nbformat": 2,
  "kernelspec": {
   "name": "Python 3.6.4 64-bit",
   "display_name": "Python 3.6.4 64-bit",
   "metadata": {
    "interpreter": {
     "hash": "966f6ba3965b08eb5941c0fab8996b029005990ffce8550831c119a9f36d5935"
    }
   }
  }
 },
 "nbformat": 4,
 "nbformat_minor": 2,
 "cells": [
  {
   "source": [
    "* Notebook service\n",
    "* Training service\n",
    "* Hosting service"
   ],
   "cell_type": "markdown",
   "metadata": {}
  },
  {
   "source": [
    "* AWS EC2 , for high performance , on demand compute\n",
    "* Custom algorithm packed via docker"
   ],
   "cell_type": "markdown",
   "metadata": {}
  },
  {
   "source": [
    "### Amazon Ground Truth\n",
    "\n",
    "* data labeling \n",
    "    * S3 <--> Ground Truth Labeling Jobs\n",
    "    * automatic labeling \n",
    "        * active learning \n",
    "        * identify data for labeling \n",
    "        "
   ],
   "cell_type": "markdown",
   "metadata": {}
  },
  {
   "source": [
    "### Amazon Sagemaker Neo\n",
    "* free the model , open on all platform \n",
    "* portable code \n",
    "* optimise the model , x2 faster \n",
    "\n",
    "* 2 components :\n",
    "    1. Neo Compiler Container\n",
    "        * Convert specific functions and operations into Framework Agnostic Representation\n",
    "        * \n",
    "    2. Shared Object Library\n",
    "\n",
    "ML Challenges :\n",
    "\n",
    "    1. Choose Framework best suited\n",
    "    2. Build model using chosen Framework\n",
    "    3. Train model to make predictions ( train,validate,test)\n",
    "    4. Integrate model with application\n",
    "    5. Deploy application, model and the framework on a platform\n",
    "\n",
    "\n",
    "1. Build\n",
    "    * optimal \n",
    "    * sub-optimal - underutilise\n",
    "2. Train (differ from framework )\n",
    "    * tensorflow\n",
    "    * mxnet\n",
    "    * pytorch\n",
    "    * xgboost\n",
    "3. Deploy (multiple platform , multiple framework)\n",
    "\n",
    "\n",
    "<img src=\"img/2.png\">"
   ],
   "cell_type": "markdown",
   "metadata": {}
  },
  {
   "source": [
    "<img src=\"img/1.png\">"
   ],
   "cell_type": "markdown",
   "metadata": {}
  },
  {
   "source": [
    "<img src=\"img/3.png\">"
   ],
   "cell_type": "markdown",
   "metadata": {}
  },
  {
   "source": [
    "<img src=\"img/4.png\">"
   ],
   "cell_type": "markdown",
   "metadata": {}
  },
  {
   "source": [
    "<img src=\"img/4.png\">\n"
   ],
   "cell_type": "markdown",
   "metadata": {}
  },
  {
   "source": [
    "<img src=\"img/5.png\">"
   ],
   "cell_type": "markdown",
   "metadata": {}
  },
  {
   "source": [
    "<img src=\"img/6.png\">"
   ],
   "cell_type": "markdown",
   "metadata": {}
  },
  {
   "source": [
    "<img src=\"img/7.png\">"
   ],
   "cell_type": "markdown",
   "metadata": {}
  },
  {
   "cell_type": "code",
   "execution_count": null,
   "metadata": {},
   "outputs": [],
   "source": []
  }
 ]
}